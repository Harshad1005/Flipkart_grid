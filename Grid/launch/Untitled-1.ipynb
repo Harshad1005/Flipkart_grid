{
    "cells": [
        {
            "cell_type": "code",
            "execution_count": 2,
            "source": [
                "def translate(value, leftMin, leftMax, rightMin, rightMax):\n",
                "    leftSpan = leftMax - leftMin\n",
                "    rightSpan = rightMax - rightMin\n",
                "    valueScaled = float(value - leftMin) / float(leftSpan)\n",
                "    return rightMin + (valueScaled * rightSpan)\n",
                "leftMin=-16\n",
                "leftMax=16\n",
                "rightMin=-255\n",
                "rightMax=255\n",
                "value=int(input(\"enter\"))\n",
                "print(round(translate(value, leftMin, leftMax, rightMin, rightMax)))\n"
            ],
            "outputs": [
                {
                    "output_type": "stream",
                    "name": "stdout",
                    "text": [
                        "4112\n"
                    ]
                }
            ],
            "metadata": {}
        },
        {
            "cell_type": "code",
            "execution_count": 3,
            "source": [
                "print(\"Mukesh\")"
            ],
            "outputs": [
                {
                    "output_type": "stream",
                    "name": "stdout",
                    "text": [
                        "Mukesh\n"
                    ]
                }
            ],
            "metadata": {}
        },
        {
            "cell_type": "code",
            "execution_count": 4,
            "source": [
                "import time\n",
                "p=time.time()\n",
                "time.sleep(3.25)\n",
                "q=time.time()\n",
                "\n",
                "print(round(q-p,5))\n"
            ],
            "outputs": [
                {
                    "output_type": "stream",
                    "name": "stdout",
                    "text": [
                        "3.2536\n"
                    ]
                }
            ],
            "metadata": {}
        },
        {
            "cell_type": "code",
            "execution_count": 5,
            "source": [
                "import math\n",
                "print(math.sqrt(25))"
            ],
            "outputs": [
                {
                    "output_type": "stream",
                    "name": "stdout",
                    "text": [
                        "5.0\n"
                    ]
                }
            ],
            "metadata": {}
        },
        {
            "cell_type": "code",
            "execution_count": 11,
            "source": [
                "x1=200\n",
                "y1=100\n",
                "x2=200\n",
                "y2=800\n",
                "\n",
                "x=math.sqrt((x2-x1)**2+(y2-y1)**2)\n",
                "print(x)"
            ],
            "outputs": [
                {
                    "output_type": "stream",
                    "name": "stdout",
                    "text": [
                        "700.0\n"
                    ]
                }
            ],
            "metadata": {}
        },
        {
            "cell_type": "code",
            "execution_count": 7,
            "source": [
                "math.sqrt(52)"
            ],
            "outputs": [
                {
                    "output_type": "execute_result",
                    "data": {
                        "text/plain": [
                            "7.211102550927978"
                        ]
                    },
                    "metadata": {},
                    "execution_count": 7
                }
            ],
            "metadata": {}
        },
        {
            "cell_type": "code",
            "execution_count": 8,
            "source": [
                "x1=5.544444561004639\n",
                "y1=5.544444561004639\n",
                "x2=10\n",
                "y2=10\n",
                "def angle(x1,y1,x2,y2):\n",
                "    ang=math.atan2(y2-y1,x2-x1)\n",
                "    return round(ang,1)\n",
                "angular=angle(x1,y1,x2,y2)\n",
                "\n",
                "print(angular)"
            ],
            "outputs": [
                {
                    "output_type": "stream",
                    "name": "stdout",
                    "text": [
                        "0.8\n"
                    ]
                }
            ],
            "metadata": {}
        },
        {
            "cell_type": "code",
            "execution_count": 9,
            "source": [
                "import cv2"
            ],
            "outputs": [],
            "metadata": {}
        }
    ],
    "metadata": {
        "orig_nbformat": 4,
        "language_info": {
            "name": "python",
            "version": "3.8.10",
            "mimetype": "text/x-python",
            "codemirror_mode": {
                "name": "ipython",
                "version": 3
            },
            "pygments_lexer": "ipython3",
            "nbconvert_exporter": "python",
            "file_extension": ".py"
        },
        "kernelspec": {
            "name": "python3",
            "display_name": "Python 3.8.10 64-bit"
        },
        "interpreter": {
            "hash": "916dbcbb3f70747c44a77c7bcd40155683ae19c65e1c03b4aa3499c5328201f1"
        }
    },
    "nbformat": 4,
    "nbformat_minor": 2
}